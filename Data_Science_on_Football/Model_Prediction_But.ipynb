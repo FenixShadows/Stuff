{
 "metadata": {
  "language_info": {
   "codemirror_mode": {
    "name": "ipython",
    "version": 3
   },
   "file_extension": ".py",
   "mimetype": "text/x-python",
   "name": "python",
   "nbconvert_exporter": "python",
   "pygments_lexer": "ipython3",
   "version": "3.8.3-final"
  },
  "orig_nbformat": 2,
  "kernelspec": {
   "name": "python3",
   "display_name": "Python 3"
  }
 },
 "nbformat": 4,
 "nbformat_minor": 2,
 "cells": [
  {
   "cell_type": "code",
   "execution_count": 1,
   "metadata": {},
   "outputs": [],
   "source": [
    "import pandas as pd "
   ]
  },
  {
   "cell_type": "code",
   "execution_count": null,
   "metadata": {},
   "outputs": [],
   "source": [
    "pd.set_option(\"max-columns\")"
   ]
  },
  {
   "cell_type": "code",
   "execution_count": 4,
   "metadata": {},
   "outputs": [],
   "source": [
    "data = pd.read_json(\"../Data_Science_on_Football/data_stock/events/7298.json\")"
   ]
  },
  {
   "cell_type": "code",
   "execution_count": 5,
   "metadata": {},
   "outputs": [
    {
     "output_type": "execute_result",
     "data": {
      "text/plain": [
       "                                     id  index  period  \\\n",
       "0  8671703e-aab7-47a8-818e-a83a91278658      1       1   \n",
       "1  08a66b27-7098-4396-b942-ba73fa2e2df6      2       1   \n",
       "2  48b94b06-ebbd-47e9-958c-44bf63622f5e      3       1   \n",
       "3  c771a4d4-51cb-41de-83aa-7103cd199c92      4       1   \n",
       "4  272ef47d-171f-4395-a156-f4979e7bf352      5       1   \n",
       "\n",
       "                timestamp  minute  second                               type  \\\n",
       "0 2020-11-15 00:00:00.000       0       0  {'id': 35, 'name': 'Starting XI'}   \n",
       "1 2020-11-15 00:00:00.000       0       0  {'id': 35, 'name': 'Starting XI'}   \n",
       "2 2020-11-15 00:00:00.000       0       0   {'id': 18, 'name': 'Half Start'}   \n",
       "3 2020-11-15 00:00:00.000       0       0   {'id': 18, 'name': 'Half Start'}   \n",
       "4 2020-11-15 00:00:00.100       0       0         {'id': 30, 'name': 'Pass'}   \n",
       "\n",
       "   possession                             possession_team  \\\n",
       "0           1  {'id': 746, 'name': 'Manchester City WFC'}   \n",
       "1           1  {'id': 746, 'name': 'Manchester City WFC'}   \n",
       "2           1  {'id': 746, 'name': 'Manchester City WFC'}   \n",
       "3           1  {'id': 746, 'name': 'Manchester City WFC'}   \n",
       "4           2          {'id': 971, 'name': 'Chelsea LFC'}   \n",
       "\n",
       "                         play_pattern  ...  goalkeeper duel  ball_recovery  \\\n",
       "0   {'id': 1, 'name': 'Regular Play'}  ...         NaN  NaN            NaN   \n",
       "1   {'id': 1, 'name': 'Regular Play'}  ...         NaN  NaN            NaN   \n",
       "2   {'id': 1, 'name': 'Regular Play'}  ...         NaN  NaN            NaN   \n",
       "3   {'id': 1, 'name': 'Regular Play'}  ...         NaN  NaN            NaN   \n",
       "4  {'id': 9, 'name': 'From Kick Off'}  ...         NaN  NaN            NaN   \n",
       "\n",
       "  interception block substitution foul_committed foul_won injury_stoppage  \\\n",
       "0          NaN   NaN          NaN            NaN      NaN             NaN   \n",
       "1          NaN   NaN          NaN            NaN      NaN             NaN   \n",
       "2          NaN   NaN          NaN            NaN      NaN             NaN   \n",
       "3          NaN   NaN          NaN            NaN      NaN             NaN   \n",
       "4          NaN   NaN          NaN            NaN      NaN             NaN   \n",
       "\n",
       "   bad_behaviour  \n",
       "0            NaN  \n",
       "1            NaN  \n",
       "2            NaN  \n",
       "3            NaN  \n",
       "4            NaN  \n",
       "\n",
       "[5 rows x 33 columns]"
      ],
      "text/html": "<div>\n<style scoped>\n    .dataframe tbody tr th:only-of-type {\n        vertical-align: middle;\n    }\n\n    .dataframe tbody tr th {\n        vertical-align: top;\n    }\n\n    .dataframe thead th {\n        text-align: right;\n    }\n</style>\n<table border=\"1\" class=\"dataframe\">\n  <thead>\n    <tr style=\"text-align: right;\">\n      <th></th>\n      <th>id</th>\n      <th>index</th>\n      <th>period</th>\n      <th>timestamp</th>\n      <th>minute</th>\n      <th>second</th>\n      <th>type</th>\n      <th>possession</th>\n      <th>possession_team</th>\n      <th>play_pattern</th>\n      <th>...</th>\n      <th>goalkeeper</th>\n      <th>duel</th>\n      <th>ball_recovery</th>\n      <th>interception</th>\n      <th>block</th>\n      <th>substitution</th>\n      <th>foul_committed</th>\n      <th>foul_won</th>\n      <th>injury_stoppage</th>\n      <th>bad_behaviour</th>\n    </tr>\n  </thead>\n  <tbody>\n    <tr>\n      <th>0</th>\n      <td>8671703e-aab7-47a8-818e-a83a91278658</td>\n      <td>1</td>\n      <td>1</td>\n      <td>2020-11-15 00:00:00.000</td>\n      <td>0</td>\n      <td>0</td>\n      <td>{'id': 35, 'name': 'Starting XI'}</td>\n      <td>1</td>\n      <td>{'id': 746, 'name': 'Manchester City WFC'}</td>\n      <td>{'id': 1, 'name': 'Regular Play'}</td>\n      <td>...</td>\n      <td>NaN</td>\n      <td>NaN</td>\n      <td>NaN</td>\n      <td>NaN</td>\n      <td>NaN</td>\n      <td>NaN</td>\n      <td>NaN</td>\n      <td>NaN</td>\n      <td>NaN</td>\n      <td>NaN</td>\n    </tr>\n    <tr>\n      <th>1</th>\n      <td>08a66b27-7098-4396-b942-ba73fa2e2df6</td>\n      <td>2</td>\n      <td>1</td>\n      <td>2020-11-15 00:00:00.000</td>\n      <td>0</td>\n      <td>0</td>\n      <td>{'id': 35, 'name': 'Starting XI'}</td>\n      <td>1</td>\n      <td>{'id': 746, 'name': 'Manchester City WFC'}</td>\n      <td>{'id': 1, 'name': 'Regular Play'}</td>\n      <td>...</td>\n      <td>NaN</td>\n      <td>NaN</td>\n      <td>NaN</td>\n      <td>NaN</td>\n      <td>NaN</td>\n      <td>NaN</td>\n      <td>NaN</td>\n      <td>NaN</td>\n      <td>NaN</td>\n      <td>NaN</td>\n    </tr>\n    <tr>\n      <th>2</th>\n      <td>48b94b06-ebbd-47e9-958c-44bf63622f5e</td>\n      <td>3</td>\n      <td>1</td>\n      <td>2020-11-15 00:00:00.000</td>\n      <td>0</td>\n      <td>0</td>\n      <td>{'id': 18, 'name': 'Half Start'}</td>\n      <td>1</td>\n      <td>{'id': 746, 'name': 'Manchester City WFC'}</td>\n      <td>{'id': 1, 'name': 'Regular Play'}</td>\n      <td>...</td>\n      <td>NaN</td>\n      <td>NaN</td>\n      <td>NaN</td>\n      <td>NaN</td>\n      <td>NaN</td>\n      <td>NaN</td>\n      <td>NaN</td>\n      <td>NaN</td>\n      <td>NaN</td>\n      <td>NaN</td>\n    </tr>\n    <tr>\n      <th>3</th>\n      <td>c771a4d4-51cb-41de-83aa-7103cd199c92</td>\n      <td>4</td>\n      <td>1</td>\n      <td>2020-11-15 00:00:00.000</td>\n      <td>0</td>\n      <td>0</td>\n      <td>{'id': 18, 'name': 'Half Start'}</td>\n      <td>1</td>\n      <td>{'id': 746, 'name': 'Manchester City WFC'}</td>\n      <td>{'id': 1, 'name': 'Regular Play'}</td>\n      <td>...</td>\n      <td>NaN</td>\n      <td>NaN</td>\n      <td>NaN</td>\n      <td>NaN</td>\n      <td>NaN</td>\n      <td>NaN</td>\n      <td>NaN</td>\n      <td>NaN</td>\n      <td>NaN</td>\n      <td>NaN</td>\n    </tr>\n    <tr>\n      <th>4</th>\n      <td>272ef47d-171f-4395-a156-f4979e7bf352</td>\n      <td>5</td>\n      <td>1</td>\n      <td>2020-11-15 00:00:00.100</td>\n      <td>0</td>\n      <td>0</td>\n      <td>{'id': 30, 'name': 'Pass'}</td>\n      <td>2</td>\n      <td>{'id': 971, 'name': 'Chelsea LFC'}</td>\n      <td>{'id': 9, 'name': 'From Kick Off'}</td>\n      <td>...</td>\n      <td>NaN</td>\n      <td>NaN</td>\n      <td>NaN</td>\n      <td>NaN</td>\n      <td>NaN</td>\n      <td>NaN</td>\n      <td>NaN</td>\n      <td>NaN</td>\n      <td>NaN</td>\n      <td>NaN</td>\n    </tr>\n  </tbody>\n</table>\n<p>5 rows × 33 columns</p>\n</div>"
     },
     "metadata": {},
     "execution_count": 5
    }
   ],
   "source": [
    "data.head()"
   ]
  },
  {
   "cell_type": "code",
   "execution_count": null,
   "metadata": {},
   "outputs": [],
   "source": []
  }
 ]
}